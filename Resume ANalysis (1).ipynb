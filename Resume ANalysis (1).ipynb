{
 "cells": [
  {
   "cell_type": "code",
   "execution_count": 1,
   "id": "ec5f1dde-6ef0-4c63-98ce-fa854e4e2db1",
   "metadata": {},
   "outputs": [],
   "source": [
    "import warnings\n",
    "warnings.filterwarnings('ignore')"
   ]
  },
  {
   "cell_type": "code",
   "execution_count": 3,
   "id": "e9d01170-b79f-4895-8172-08173501300a",
   "metadata": {},
   "outputs": [],
   "source": [
    "from crewai import Agent, Task, Crew"
   ]
  },
  {
   "cell_type": "code",
   "execution_count": null,
   "id": "52a678d5-5af3-4d1d-8e83-b13745f9eb9c",
   "metadata": {},
   "outputs": [],
   "source": [
    "!pip install crewai==0.28.8 crewai_tools==0.1.6 langchain_community==0.0.2"
   ]
  },
  {
   "cell_type": "code",
   "execution_count": 6,
   "id": "3cc150f6-0a68-4266-ad49-054a14c51e05",
   "metadata": {},
   "outputs": [],
   "source": [
    "import os"
   ]
  },
  {
   "cell_type": "code",
   "execution_count": 7,
   "id": "f68c36a3-70b1-46e0-bd31-a2c187f05798",
   "metadata": {},
   "outputs": [],
   "source": [
    "from crewai import LLM\n",
    "llm = LLM(\n",
    "    model=\"ollama/llama3.1:8b\",\n",
    "    base_url=\"http://localhost:11434\"\n",
    ")\n"
   ]
  },
  {
   "cell_type": "code",
   "execution_count": 8,
   "id": "4afca85e-693a-41b3-85bb-09d50c83a7f2",
   "metadata": {},
   "outputs": [],
   "source": [
    "tavily_api_key=\"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\"\n"
   ]
  },
  {
   "cell_type": "code",
   "execution_count": 9,
   "id": "118b9784-0365-40a6-8237-461d313c275e",
   "metadata": {},
   "outputs": [],
   "source": [
    "from crewai_tools import (\n",
    " FileReadTool,\n",
    " ScrapeWebsiteTool,\n",
    " MDXSearchTool,\n",
    " SerperDevTool\n",
    " )"
   ]
  },
  {
   "cell_type": "code",
   "execution_count": 15,
   "id": "8a08f489-817b-4fac-b654-448b0f3e0314",
   "metadata": {},
   "outputs": [],
   "source": [
    "from langchain_community.tools.tavily_search import TavilySearchResults\n",
    "os.environ[\"SERPER_API_KEY\"]=\"\""
   ]
  },
  {
   "cell_type": "code",
   "execution_count": 17,
   "id": "8b88aa90-8dc9-4ca4-b54c-68d9802606df",
   "metadata": {},
   "outputs": [],
   "source": [
    "search_tool=SerperDevTool()\n",
    "scrape_tool=ScrapeWebsiteTool()\n",
    "read_resume=FileReadTool(file_path=\"./Resume.pdf\")\n"
   ]
  },
  {
   "cell_type": "code",
   "execution_count": 19,
   "id": "af507aeb-f0f6-4526-823b-9038ec67e2b7",
   "metadata": {},
   "outputs": [
    {
     "data": {
      "text/plain": [
       "ScrapeWebsiteTool(name='Read website content', description=\"Tool Name: Read website content\\nTool Arguments: {'website_url': {'description': 'Mandatory website url to read the file', 'type': 'str'}}\\nTool Description: A tool that can be used to read a website content.\", args_schema=<class 'crewai_tools.tools.scrape_website_tool.scrape_website_tool.ScrapeWebsiteToolSchema'>, description_updated=False, cache_function=<function BaseTool.<lambda> at 0x000002758A2500E0>, result_as_answer=False, website_url=None, cookies=None, headers={'User-Agent': 'Mozilla/5.0 (Windows NT 10.0; Win64; x64) AppleWebKit/537.36 (KHTML, like Gecko) Chrome/96.0.4664.110 Safari/537.36', 'Accept': 'text/html,application/xhtml+xml,application/xml;q=0.9,image/avif,image/webp,image/apng,*/*;q=0.8,application/signed-exchange;v=b3;q=0.9', 'Accept-Language': 'en-US,en;q=0.9', 'Referer': 'https://www.google.com/', 'Connection': 'keep-alive', 'Upgrade-Insecure-Requests': '1'})"
      ]
     },
     "execution_count": 19,
     "metadata": {},
     "output_type": "execute_result"
    }
   ],
   "source": [
    "scrape_tool"
   ]
  },
  {
   "cell_type": "code",
   "execution_count": 21,
   "id": "f97f1860-3800-4635-9832-5805bdf539ee",
   "metadata": {},
   "outputs": [
    {
     "data": {
      "text/plain": [
       "SerperDevTool(name='Search the internet', description=\"Tool Name: Search the internet\\nTool Arguments: {'search_query': {'description': 'Mandatory search query you want to use to search the internet', 'type': 'str'}}\\nTool Description: A tool that can be used to search the internet with a search_query.\", args_schema=<class 'crewai_tools.tools.serper_dev_tool.serper_dev_tool.SerperDevToolSchema'>, description_updated=False, cache_function=<function BaseTool.<lambda> at 0x000002758A2500E0>, result_as_answer=False, search_url='https://google.serper.dev/search', country='', location='', locale='', n_results=10, save_file=False)"
      ]
     },
     "execution_count": 21,
     "metadata": {},
     "output_type": "execute_result"
    }
   ],
   "source": [
    "search_tool"
   ]
  },
  {
   "cell_type": "code",
   "execution_count": 23,
   "id": "ad748fde-4429-4e23-90c2-97f0f3ae5b64",
   "metadata": {},
   "outputs": [
    {
     "name": "stdout",
     "output_type": "stream",
     "text": [
      "embedchain version: 0.1.125\n"
     ]
    },
    {
     "name": "stderr",
     "output_type": "stream",
     "text": [
      "C:\\Users\\SUN\\anaconda3\\Lib\\site-packages\\embedchain\\embedder\\ollama.py:27: LangChainDeprecationWarning: The class `OllamaEmbeddings` was deprecated in LangChain 0.3.1 and will be removed in 1.0.0. An updated version of the class exists in the :class:`~langchain-ollama package and should be used instead. To use it run `pip install -U :class:`~langchain-ollama` and import as `from :class:`~langchain_ollama import OllamaEmbeddings``.\n",
      "  embeddings = OllamaEmbeddings(model=self.config.model, base_url=config.base_url)\n"
     ]
    }
   ],
   "source": [
    "from crewai_tools import PDFSearchTool\n",
    "import embedchain\n",
    "\n",
    "\n",
    "print(\"embedchain version:\", embedchain.__version__)\n",
    "\n",
    "semantic_search_resume = PDFSearchTool(\n",
    "    config=dict(\n",
    "        llm=dict(\n",
    "            provider=\"ollama\",\n",
    "            config=dict(\n",
    "                model=\"llama3.1:8b\",\n",
    "            ),\n",
    "        ),\n",
    "        embedder=dict(\n",
    "            provider=\"ollama\",\n",
    "            config=dict(\n",
    "                model=\"nomic-embed-text\",\n",
    "            ),\n",
    "        ),\n",
    "    )\n",
    ")\n"
   ]
  },
  {
   "cell_type": "code",
   "execution_count": null,
   "id": "679616d4-0158-4950-84c0-3e0524a484f4",
   "metadata": {},
   "outputs": [],
   "source": [
    "!pip install embedchain"
   ]
  },
  {
   "cell_type": "code",
   "execution_count": null,
   "id": "13cd1c08-c5a6-4e64-91b6-170adabbf155",
   "metadata": {},
   "outputs": [],
   "source": [
    "!pip install google-generativeai\n"
   ]
  },
  {
   "cell_type": "code",
   "execution_count": 24,
   "id": "552f0820-808d-4422-a1e7-91321bae22c0",
   "metadata": {},
   "outputs": [],
   "source": [
    " researcher = Agent(\n",
    "    role=\"Tech Job Researcher\",\n",
    "    goal=\"Make sure to do amazing analysis on \"\n",
    "         \"job posting to help job applicants\",\n",
    "    tools = [scrape_tool, search_tool],\n",
    "    verbose=True,\n",
    "    llm=llm,\n",
    "    backstory=(\n",
    "        \"As a Job Researcher, your prowess in \"\n",
    "        \"navigating and extracting critical \"\n",
    "        \"information from job postings is unmatched.\"\n",
    "        \"Your skills help pinpoint the necessary \"\n",
    "        \"qualifications and skills sought \"\n",
    "        \"by employers, forming the foundation for \"\n",
    "        \"effective application tailoring.\"\n",
    ")\n",
    " )"
   ]
  },
  {
   "cell_type": "code",
   "execution_count": null,
   "id": "dda77e9c-b2c3-414d-98be-3d17e9707ad3",
   "metadata": {},
   "outputs": [],
   "source": []
  },
  {
   "cell_type": "code",
   "execution_count": 27,
   "id": "b46d06ac-028b-423f-9f5d-665c53cc5db8",
   "metadata": {},
   "outputs": [],
   "source": [
    "profiler = Agent(\n",
    "    role=\"Personal Profiler for Engineers\",\n",
    "    goal=\"Do incredible research on job applicants \"\n",
    "         \"to help them stand out in the job market\",\n",
    "    tools = [scrape_tool, search_tool,\n",
    "             read_resume, semantic_search_resume],\n",
    "    verbose=True,\n",
    "    llm=llm,\n",
    "    backstory=(\n",
    "        \"Equipped with analytical prowess, you dissect \"\n",
    "        \"and synthesize information \"\n",
    "        \"from diverse sources to craft comprehensive \"\n",
    "        \"personal and professional profiles, laying the \"\n",
    "        \"groundwork for personalized resume enhancements.\"\n",
    "    )\n",
    ")"
   ]
  },
  {
   "cell_type": "code",
   "execution_count": 29,
   "id": "52b08bd2-5998-4046-8fdc-a832a3282298",
   "metadata": {},
   "outputs": [],
   "source": [
    "resume_strategist = Agent(\n",
    "    role=\"Resume Strategist for Engineers\",\n",
    "    goal=\"Find all the best ways to make a \"\n",
    "         \"resume stand out in the job market.\",\n",
    "    tools = [scrape_tool, search_tool,\n",
    "             read_resume, semantic_search_resume],\n",
    "    verbose=True,\n",
    "    llm=llm,\n",
    "    backstory=(\n",
    "        \"With a strategic mind and an eye for detail, you \"\n",
    "        \"excel at refining resumes to highlight the most \"\n",
    "        \"relevant skills and experiences, ensuring they \"\n",
    "        \"resonate perfectly with the job's requirements.\"\n",
    "    )\n",
    ")"
   ]
  },
  {
   "cell_type": "code",
   "execution_count": 31,
   "id": "9717dd7b-cf28-4e18-b65d-106760b030e3",
   "metadata": {},
   "outputs": [],
   "source": [
    "interview_preparer = Agent(\n",
    "    role=\"Engineering Interview Preparer\",\n",
    "    goal=\"Create interview questions and talking points \"\n",
    "         \"based on the resume and job requirements\",\n",
    "    tools = [scrape_tool, search_tool,\n",
    "             read_resume, semantic_search_resume],\n",
    "    verbose=True,\n",
    "    llm=llm,\n",
    "    backstory=(\n",
    "        \"Your role is crucial in anticipating the dynamics of \"\n",
    "        \"interviews. With your ability to formulate key questions \"\n",
    "        \"and talking points, you prepare candidates for success, \"\n",
    "        \"ensuring they can confidently address all aspects of the \"\n",
    "        \"job they are applying for.\"\n",
    "    )\n",
    ")"
   ]
  },
  {
   "cell_type": "code",
   "execution_count": 33,
   "id": "cef0eeb8-5099-4e66-9bd2-fe33ebaecf12",
   "metadata": {},
   "outputs": [],
   "source": [
    "research_task = Task(\n",
    "    description=(\n",
    "        \"Analyze the job posting URL provided ({job_posting_url}) \"\n",
    "        \"to extract key skills, experiences, and qualifications \"\n",
    "        \"required. Use the tools to gather content and identify \"\n",
    "        \"and categorize the requirements.\"\n",
    "    ),\n",
    "    expected_output=(\n",
    "        \"A structured list of job requirements, including necessary \"\n",
    "        \"skills, qualifications, and experiences.\"\n",
    "    ),\n",
    "    llm=llm,\n",
    "    agent=researcher,\n",
    "    async_execution=True\n",
    ")"
   ]
  },
  {
   "cell_type": "code",
   "execution_count": 35,
   "id": "933b60a7-5aca-44b5-8da3-a8a51504f94e",
   "metadata": {},
   "outputs": [],
   "source": [
    "profile_task = Task(\n",
    "    description=(\n",
    "        \"Compile a detailed personal and professional profile \"\n",
    "        \"using only the exact GitHub  URL {{github_url}}, and personal write-up \"\n",
    "        \"({personal_writeup}). Utilize tools to extract and \"\n",
    "        \"synthesize information from these sources.\"\n",
    "    ),\n",
    "    expected_output=(\n",
    "        \"A comprehensive profile document that includes skills, \"\n",
    "        \"project experiences, contributions, interests, and \"\n",
    "        \"communication style.\"\n",
    "    ),\n",
    "    agent=profiler,\n",
    "    async_execution=True\n",
    ")"
   ]
  },
  {
   "cell_type": "code",
   "execution_count": 37,
   "id": "b6a6731e-16d2-4bda-82be-777937cce4d5",
   "metadata": {},
   "outputs": [],
   "source": [
    "resume_strategy_task = Task(\n",
    "    description=(\n",
    "        \"Using the profile and job requirements obtained from \"\n",
    "        \"previous tasks, tailor the resume to highlight the most \"\n",
    "        \"relevant areas. Employ tools to adjust and enhance the \"\n",
    "        \"resume content. Make sure this is the best resume even but \"\n",
    "        \"don't make up any information. Update every section, \"\n",
    "        \"inlcuding the initial summary, work experience, skills, \"\n",
    "        \"and education. All to better reflrect the candidates \"\n",
    "        \"abilities and how it matches the job posting.\"\n",
    "    ),\n",
    "    expected_output=(\n",
    "        \"An updated resume that effectively highlights the candidate's \"\n",
    "        \"qualifications and experiences relevant to the job.\"\n",
    "    ),\n",
    "    output_file=\"tailored_resume.md\",\n",
    "    context=[research_task, profile_task],\n",
    "    agent=resume_strategist\n",
    ")"
   ]
  },
  {
   "cell_type": "code",
   "execution_count": 39,
   "id": "6624b712-1bab-4b20-9dcd-8c34cdc19507",
   "metadata": {},
   "outputs": [],
   "source": [
    "interview_preparation_task = Task(\n",
    "    description=(\n",
    "        \"Create a set of potential interview questions and talking \"\n",
    "        \"points based on the tailored resume and job requirements. \"\n",
    "        \"Utilize tools to generate relevant questions and discussion \"\n",
    "        \"points. Make sure to use these question and talking points to \"\n",
    "        \"help the candiadte highlight the main points of the resume \"\n",
    "        \"and how it matches the job posting.\"\n",
    "    ),\n",
    "    expected_output=(\n",
    "        \"A document containing key questions and talking points \"\n",
    "        \"that the candidate should prepare for the initial interview.\"\n",
    "    ),\n",
    "    output_file=\"interview_materials.md\",\n",
    "    context=[research_task, profile_task, resume_strategy_task],\n",
    "    agent=interview_preparer\n",
    ")\n"
   ]
  },
  {
   "cell_type": "code",
   "execution_count": 41,
   "id": "9f10cc03-9749-4f2f-a849-47e6a8c187f1",
   "metadata": {},
   "outputs": [],
   "source": [
    "job_application_crew = Crew(\n",
    "    agents=[researcher,\n",
    "            profiler,\n",
    "            resume_strategist,\n",
    "            interview_preparer],\n",
    "\n",
    "    tasks=[research_task,\n",
    "           profile_task,\n",
    "           resume_strategy_task,\n",
    "           interview_preparation_task],\n",
    "\n",
    "    verbose=True\n",
    ")"
   ]
  },
  {
   "cell_type": "code",
   "execution_count": 43,
   "id": "ce039bf7-865d-42f1-a691-8b5b55f513ea",
   "metadata": {},
   "outputs": [],
   "source": [
    "job_application_inputs = {\n",
    "    'job_posting_url': '',\n",
    "    'github_url': '',\n",
    "    'personal_writeup': \"\"\" is a budding software engineer with good combination of development skills\"\"\"\n",
    "}"
   ]
  },
  {
   "cell_type": "code",
   "execution_count": null,
   "id": "6f655fda-85dc-4e2d-971a-089186687c45",
   "metadata": {},
   "outputs": [],
   "source": [
    "result = job_application_crew.kickoff(inputs=job_application_inputs)\n"
   ]
  }
 ],
 "metadata": {
  "kernelspec": {
   "display_name": "Python [conda env:base] *",
   "language": "python",
   "name": "conda-base-py"
  },
  "language_info": {
   "codemirror_mode": {
    "name": "ipython",
    "version": 3
   },
   "file_extension": ".py",
   "mimetype": "text/x-python",
   "name": "python",
   "nbconvert_exporter": "python",
   "pygments_lexer": "ipython3",
   "version": "3.12.7"
  }
 },
 "nbformat": 4,
 "nbformat_minor": 5
}
